{
  "nbformat": 4,
  "nbformat_minor": 0,
  "metadata": {
    "colab": {
      "name": "control statements.ipynb",
      "provenance": [],
      "authorship_tag": "ABX9TyO/Zmi9zoGCaAcSiVqvZELa",
      "include_colab_link": true
    },
    "kernelspec": {
      "name": "python3",
      "display_name": "Python 3"
    },
    "language_info": {
      "name": "python"
    }
  },
  "cells": [
    {
      "cell_type": "markdown",
      "metadata": {
        "id": "view-in-github",
        "colab_type": "text"
      },
      "source": [
        "<a href=\"https://colab.research.google.com/github/Koushikpalla/python_practise/blob/main/control_statements.ipynb\" target=\"_parent\"><img src=\"https://colab.research.google.com/assets/colab-badge.svg\" alt=\"Open In Colab\"/></a>"
      ]
    },
    {
      "cell_type": "code",
      "execution_count": null,
      "metadata": {
        "id": "8iyesMHSPRWm"
      },
      "outputs": [],
      "source": [
        "#find out the person is eligible for voting or not.\n"
      ]
    },
    {
      "cell_type": "code",
      "source": [
        "a=int(input(\"enter your age\"))\n",
        "if(a>=18):\n",
        "  print(\"eligible\")\n",
        "else:\n",
        "    print(\"not eligible\")"
      ],
      "metadata": {
        "colab": {
          "base_uri": "https://localhost:8080/"
        },
        "id": "PmMXarN0QwZU",
        "outputId": "ba9cf160-2dc2-4022-b41f-1c020e6597a0"
      },
      "execution_count": null,
      "outputs": [
        {
          "output_type": "stream",
          "name": "stdout",
          "text": [
            "enter your age17\n",
            "not eligible\n"
          ]
        }
      ]
    },
    {
      "cell_type": "code",
      "source": [
        "#maximum of 3 numbers.\n"
      ],
      "metadata": {
        "id": "XpvJHXehUNnU"
      },
      "execution_count": null,
      "outputs": []
    },
    {
      "cell_type": "code",
      "source": [
        "a=int(input(\"enter the first number\"))\n",
        "b=int(input(\"enter the second number\"))\n",
        "c=int(input(\"enter the third number\"))\n",
        "if(a>b and a>c):\n",
        "  print(\"a is the greatest\")\n",
        "elif(b<a and b>c): \n",
        "  print(\"b is the greatest\")\n",
        "else:\n",
        "  print(\"c is the greatest\")\n"
      ],
      "metadata": {
        "colab": {
          "base_uri": "https://localhost:8080/"
        },
        "id": "2M4wn7p2Ux0T",
        "outputId": "5e224379-7a83-43f0-c8cd-b6c75b4c143c"
      },
      "execution_count": null,
      "outputs": [
        {
          "output_type": "stream",
          "name": "stdout",
          "text": [
            "enter the first number10\n",
            "enter the second number11\n",
            "enter the third number12\n",
            "c is the greatest\n"
          ]
        }
      ]
    },
    {
      "cell_type": "code",
      "source": [
        "# 5 subject marks average"
      ],
      "metadata": {
        "id": "gqYV6HSHWgGl"
      },
      "execution_count": null,
      "outputs": []
    },
    {
      "cell_type": "code",
      "source": [
        "a=int(input(\" enter the 1st sub marks\"))\n",
        "b=int(input(\" enter the 2nd sub marks\"))\n",
        "c=int(input(\" enter the 3rd sub marks\"))\n",
        "d=int(input(\" enter the 4th sub marks\"))\n",
        "e=int(input(\" enter the 5th sub marks\"))\n",
        "avg=(a+b+c+d+e)/5\n",
        "print(\"the avg of 5 subjects is\"+str(avg))"
      ],
      "metadata": {
        "colab": {
          "base_uri": "https://localhost:8080/"
        },
        "id": "xmGcx8hqWs-k",
        "outputId": "cbab037f-10bf-4a8e-acad-271fb03ee071"
      },
      "execution_count": null,
      "outputs": [
        {
          "output_type": "stream",
          "name": "stdout",
          "text": [
            " enter the 1st sub marks19\n",
            " enter the 2nd sub marks20\n",
            " enter the 3rd sub marks20\n",
            " enter the 4th sub marks20\n",
            " enter the 5th sub marks20\n",
            "the avg of 5 subjects is19.8\n"
          ]
        }
      ]
    },
    {
      "cell_type": "code",
      "source": [
        "#triangles ( scalene,equilatral,isosceles)\n"
      ],
      "metadata": {
        "id": "wv7UcIPEZDil"
      },
      "execution_count": null,
      "outputs": []
    },
    {
      "cell_type": "code",
      "source": [
        ""
      ],
      "metadata": {
        "id": "vC8ZiquxehAG"
      },
      "execution_count": null,
      "outputs": []
    }
  ]
}