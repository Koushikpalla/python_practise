{
 "cells": [
  {
   "cell_type": "code",
   "execution_count": 11,
   "id": "e798ef33",
   "metadata": {},
   "outputs": [
    {
     "name": "stdout",
     "output_type": "stream",
     "text": [
      "10\n",
      "<class 'int'>\n",
      "10\n",
      "<class 'str'>\n",
      "10.0\n",
      "<class 'float'>\n",
      "True\n",
      "<class 'bool'>\n",
      "(10+0j)\n",
      "<class 'complex'>\n"
     ]
    }
   ],
   "source": [
    "##converting int to string,float,Boolean,Complex.\n",
    "\n",
    "a=10\n",
    "print(a)\n",
    "print(type(a))\n",
    "#before conversion\n",
    "b=str(a)\n",
    "print(b)\n",
    "print(type(b))\n",
    "#after conversion\n",
    "c=float(a)\n",
    "print(c)\n",
    "print(type(c))\n",
    "d=bool(a)\n",
    "print(d)\n",
    "print(type(d))\n",
    "e=complex(a)\n",
    "print(e)\n",
    "print(type(e))"
   ]
  },
  {
   "cell_type": "code",
   "execution_count": 20,
   "id": "23851f7c",
   "metadata": {},
   "outputs": [
    {
     "name": "stdout",
     "output_type": "stream",
     "text": [
      "10\n",
      "<class 'str'>\n",
      "10\n",
      "<class 'int'>\n",
      "ten\n",
      "<class 'str'>\n",
      "int(c)\n",
      "<class 'str'>\n"
     ]
    }
   ],
   "source": [
    "##converting string to int,float,boolean,complex.\n",
    "\n",
    "a='10'\n",
    "print(a)\n",
    "print(type(a))\n",
    "b=int(a)\n",
    "print(b)\n",
    "print(type(b))\n",
    "c='ten'\n",
    "print(c)\n",
    "print(type(c))\n",
    "d='int(c)'\n",
    "print(d)\n",
    "print(type(d))\n"
   ]
  },
  {
   "cell_type": "code",
   "execution_count": 22,
   "id": "8b6a268f",
   "metadata": {},
   "outputs": [
    {
     "name": "stdout",
     "output_type": "stream",
     "text": [
      "10\n",
      "<class 'str'>\n",
      "10\n",
      "<class 'str'>\n",
      "10.0\n",
      "<class 'float'>\n",
      "True\n",
      "<class 'bool'>\n",
      "(10+0j)\n",
      "<class 'complex'>\n"
     ]
    }
   ],
   "source": [
    "##converting float to int,string,boolean,complex.\n",
    "\n",
    "a='10'\n",
    "print(a)\n",
    "print(type(a))\n",
    "#before conversion\n",
    "b=str(a)\n",
    "print(b)\n",
    "print(type(b))\n",
    "#after conversion\n",
    "c=float(a)\n",
    "print(c)\n",
    "print(type(c))\n",
    "d=bool(a)\n",
    "print(d)\n",
    "print(type(d))\n",
    "e=complex(a)\n",
    "print(e)\n",
    "print(type(e))"
   ]
  },
  {
   "cell_type": "code",
   "execution_count": null,
   "id": "306a5278",
   "metadata": {},
   "outputs": [],
   "source": [
    "##converting boolean into int,float,string,complex.\n",
    "\n"
   ]
  }
 ],
 "metadata": {
  "kernelspec": {
   "display_name": "Python 3 (ipykernel)",
   "language": "python",
   "name": "python3"
  },
  "language_info": {
   "codemirror_mode": {
    "name": "ipython",
    "version": 3
   },
   "file_extension": ".py",
   "mimetype": "text/x-python",
   "name": "python",
   "nbconvert_exporter": "python",
   "pygments_lexer": "ipython3",
   "version": "3.9.7"
  }
 },
 "nbformat": 4,
 "nbformat_minor": 5
}
